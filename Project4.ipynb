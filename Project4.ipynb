{
 "cells": [
  {
   "cell_type": "code",
   "execution_count": 12,
   "id": "9e57dc57",
   "metadata": {},
   "outputs": [],
   "source": [
    "from bs4 import BeautifulSoup\n",
    "\n",
    "import pandas as pd\n",
    "import urllib\n",
    "import urllib.request\n",
    "import re"
   ]
  },
  {
   "cell_type": "code",
   "execution_count": 2,
   "id": "2b4297bd",
   "metadata": {},
   "outputs": [],
   "source": [
    "with urllib.request.urlopen('https://en.wikipedia.org/wiki/List_of_states_and_territories_of_the_United_States') as response:\n",
    "    html = response.read()"
   ]
  },
  {
   "cell_type": "code",
   "execution_count": 3,
   "id": "26669136",
   "metadata": {},
   "outputs": [],
   "source": [
    "soup = BeautifulSoup(html, \"html.parser\")"
   ]
  },
  {
   "cell_type": "code",
   "execution_count": 4,
   "id": "1a370021",
   "metadata": {},
   "outputs": [],
   "source": [
    "table = soup.find(\"table\", class_=\"wikitable sortable plainrowheaders\")"
   ]
  },
  {
   "cell_type": "code",
   "execution_count": 5,
   "id": "28ff0916",
   "metadata": {},
   "outputs": [],
   "source": [
    "tag1 = table.find_all('th')"
   ]
  },
  {
   "cell_type": "code",
   "execution_count": 6,
   "id": "b810ee8b",
   "metadata": {},
   "outputs": [],
   "source": [
    "a_links = []\n",
    "for text in tag1:\n",
    "    a_links.extend(text.findAll('a'))"
   ]
  },
  {
   "cell_type": "code",
   "execution_count": 7,
   "id": "1fe84f5a",
   "metadata": {},
   "outputs": [
    {
     "name": "stdout",
     "output_type": "stream",
     "text": [
      "['postal abbreviation', '[8]', '[A]', '[10]', '[11]', '[11]', '[11]', None, '[12]', 'Alabama', 'Alaska', 'Arizona', 'Arkansas', 'California', 'Colorado', 'Connecticut', 'Delaware', 'Florida', 'Georgia', 'Hawaii', 'Idaho', 'Illinois', 'Indiana', 'Iowa', 'Kansas', 'Kentucky', '[B]', 'Louisiana', 'Maine', 'Maryland', 'Massachusetts', '[B]', 'Michigan', 'Minnesota', 'Mississippi', 'Missouri', 'Montana', 'Nebraska', 'Nevada', 'New Hampshire', 'New Jersey', 'New Mexico', 'New York', 'North Carolina', 'North Dakota', 'Ohio', 'Oklahoma', 'Oregon', 'Pennsylvania', '[B]', 'Rhode Island', 'South Carolina', 'South Dakota', 'Tennessee', 'Texas', 'Utah', 'Vermont', 'Virginia', '[B]', 'Washington', 'West Virginia', 'Wisconsin', 'Wyoming']\n"
     ]
    }
   ],
   "source": [
    "names = []\n",
    "for i in a_links:\n",
    "    names.append(i.string)\n",
    "print(names)"
   ]
  },
  {
   "cell_type": "code",
   "execution_count": 8,
   "id": "109f55e2",
   "metadata": {},
   "outputs": [
    {
     "name": "stdout",
     "output_type": "stream",
     "text": [
      "['Alabama', 'Alaska', 'Arizona', 'Arkansas', 'California', 'Colorado', 'Connecticut', 'Delaware', 'Florida', 'Georgia', 'Hawaii', 'Idaho', 'Illinois', 'Indiana', 'Iowa', 'Kansas', 'Kentucky', 'Louisiana', 'Maine', 'Maryland', 'Massachusetts', 'Michigan', 'Minnesota', 'Mississippi', 'Missouri', 'Montana', 'Nebraska', 'Nevada', 'New Hampshire', 'New Jersey', 'New Mexico', 'New York', 'North Carolina', 'North Dakota', 'Ohio', 'Oklahoma', 'Oregon', 'Pennsylvania', 'Rhode Island', 'South Carolina', 'South Dakota', 'Tennessee', 'Texas', 'Utah', 'Vermont', 'Virginia', 'Washington', 'West Virginia', 'Wisconsin', 'Wyoming'] 50\n"
     ]
    }
   ],
   "source": [
    "states = []\n",
    "for i in names[9:]:\n",
    "    if len(i) > 3:\n",
    "        states.append(i.string)\n",
    "print(states, len(states))"
   ]
  },
  {
   "cell_type": "code",
   "execution_count": 9,
   "id": "1981a9c9",
   "metadata": {},
   "outputs": [],
   "source": [
    "tag2 = table.find_all('div')"
   ]
  },
  {
   "cell_type": "code",
   "execution_count": 10,
   "id": "81f99962",
   "metadata": {},
   "outputs": [
    {
     "name": "stdout",
     "output_type": "stream",
     "text": [
      "['5,024,279', '7', '733,391', '1', '7,151,502', '9', '3,011,524', '4', '39,538,223', '52', '5,773,714', '8', '3,605,944', '5', '989,948', '1', '21,538,187', '28', '10,711,908', '14', '1,455,271', '2', '1,839,106', '2', '12,812,508', '17', '6,785,528', '9', '3,190,369', '4', '2,937,880', '4', '4,505,836', '6', '4,657,757', '6', '1,362,359', '2', '6,177,224', '8', '7,029,917', '9', '10,077,331', '13', '5,706,494', '8', '2,961,279', '4', '6,154,913', '8', '1,084,225', '2', '1,961,504', '3', '3,104,614', '4', '1,377,529', '2', '9,288,994', '12', '2,117,522', '3', '20,201,249', '26', '10,439,388', '14', '779,094', '1', '11,799,448', '15', '3,959,353', '5', '4,237,256', '6', '13,002,700', '17', '1,097,379', '2', '5,118,425', '7', '886,667', '1', '6,910,840', '9', '29,145,505', '38', '3,271,616', '4', '643,077', '1', '8,631,393', '11', '7,705,281', '10', '1,793,716', '2', '5,893,718', '8', '576,851', '1']\n"
     ]
    }
   ],
   "source": [
    "population_co = []\n",
    "for i in tag2:\n",
    "    population_co.append(i.string)\n",
    "print(population_co)"
   ]
  },
  {
   "cell_type": "code",
   "execution_count": 25,
   "id": "bc627f90",
   "metadata": {},
   "outputs": [
    {
     "name": "stdout",
     "output_type": "stream",
     "text": [
      "['5,024,279', '733,391', '7,151,502', '3,011,524', '39,538,223', '5,773,714', '3,605,944', '989,948', '21,538,187', '10,711,908', '1,455,271', '1,839,106', '12,812,508', '6,785,528', '3,190,369', '2,937,880', '4,505,836', '4,657,757', '1,362,359', '6,177,224', '7,029,917', '10,077,331', '5,706,494', '2,961,279', '6,154,913', '1,084,225', '1,961,504', '3,104,614', '1,377,529', '9,288,994', '2,117,522', '20,201,249', '10,439,388', '779,094', '11,799,448', '3,959,353', '4,237,256', '13,002,700', '1,097,379', '5,118,425', '886,667', '6,910,840', '29,145,505', '3,271,616', '643,077', '8,631,393', '7,705,281', '1,793,716', '5,893,718', '576,851']\n"
     ]
    }
   ],
   "source": [
    "populations = []\n",
    "for i in population_co:\n",
    "    if len(i) > 3:\n",
    "        populations.append(i.string)\n",
    "print(populations)"
   ]
  },
  {
   "cell_type": "code",
   "execution_count": 47,
   "id": "ba8f358d",
   "metadata": {},
   "outputs": [],
   "source": [
    "data = {\"states\" : states , \"population\" : population}\n",
    "\n",
    "df = pd.DataFrame(data)"
   ]
  },
  {
   "cell_type": "code",
   "execution_count": 48,
   "id": "5fd1acb1",
   "metadata": {},
   "outputs": [
    {
     "name": "stdout",
     "output_type": "stream",
     "text": [
      "            states  population\n",
      "0          Alabama   5,024,279\n",
      "1           Alaska     733,391\n",
      "2          Arizona   7,151,502\n",
      "3         Arkansas   3,011,524\n",
      "4       California  39,538,223\n",
      "5         Colorado   5,773,714\n",
      "6      Connecticut   3,605,944\n",
      "7         Delaware     989,948\n",
      "8          Florida  21,538,187\n",
      "9          Georgia  10,711,908\n",
      "10          Hawaii   1,455,271\n",
      "11           Idaho   1,839,106\n",
      "12        Illinois  12,812,508\n",
      "13         Indiana   6,785,528\n",
      "14            Iowa   3,190,369\n",
      "15          Kansas   2,937,880\n",
      "16        Kentucky   4,505,836\n",
      "17       Louisiana   4,657,757\n",
      "18           Maine   1,362,359\n",
      "19        Maryland   6,177,224\n",
      "20   Massachusetts   7,029,917\n",
      "21        Michigan  10,077,331\n",
      "22       Minnesota   5,706,494\n",
      "23     Mississippi   2,961,279\n",
      "24        Missouri   6,154,913\n",
      "25         Montana   1,084,225\n",
      "26        Nebraska   1,961,504\n",
      "27          Nevada   3,104,614\n",
      "28   New Hampshire   1,377,529\n",
      "29      New Jersey   9,288,994\n",
      "30      New Mexico   2,117,522\n",
      "31        New York  20,201,249\n",
      "32  North Carolina  10,439,388\n",
      "33    North Dakota     779,094\n",
      "34            Ohio  11,799,448\n",
      "35        Oklahoma   3,959,353\n",
      "36          Oregon   4,237,256\n",
      "37    Pennsylvania  13,002,700\n",
      "38    Rhode Island   1,097,379\n",
      "39  South Carolina   5,118,425\n",
      "40    South Dakota     886,667\n",
      "41       Tennessee   6,910,840\n",
      "42           Texas  29,145,505\n",
      "43            Utah   3,271,616\n",
      "44         Vermont     643,077\n",
      "45        Virginia   8,631,393\n",
      "46      Washington   7,705,281\n",
      "47   West Virginia   1,793,716\n",
      "48       Wisconsin   5,893,718\n",
      "49         Wyoming     576,851\n"
     ]
    }
   ],
   "source": [
    "print(df)"
   ]
  },
  {
   "cell_type": "code",
   "execution_count": 49,
   "id": "60ca8225",
   "metadata": {},
   "outputs": [],
   "source": [
    "df.to_csv('us_info.csv')"
   ]
  },
  {
   "cell_type": "code",
   "execution_count": null,
   "id": "03c3bcf6",
   "metadata": {},
   "outputs": [],
   "source": []
  }
 ],
 "metadata": {
  "kernelspec": {
   "display_name": "Python 3 (ipykernel)",
   "language": "python",
   "name": "python3"
  },
  "language_info": {
   "codemirror_mode": {
    "name": "ipython",
    "version": 3
   },
   "file_extension": ".py",
   "mimetype": "text/x-python",
   "name": "python",
   "nbconvert_exporter": "python",
   "pygments_lexer": "ipython3",
   "version": "3.11.4"
  }
 },
 "nbformat": 4,
 "nbformat_minor": 5
}
